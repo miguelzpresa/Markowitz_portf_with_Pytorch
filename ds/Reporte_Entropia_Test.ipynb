{
 "cells": [
  {
   "attachments": {
    "image.png": {
     "image/png": "[encoded data removed]"
    }
   },
   "cell_type": "markdown",
   "id": "60ee3f79",
   "metadata": {},
   "source": [
    "![image.png](attachment:image.png)"
   ]
  },
  {
   "cell_type": "markdown",
   "id": "025143c8",
   "metadata": {},
   "source": [
    "### Entropía AI Candidates Test  \n",
    "Data Scientist Test: Time Series Forecasting  \n",
    "**Miguel Ángel Zamorano Presa**"
   ]
  },
  {
   "cell_type": "markdown",
   "id": "a0c96c6a",
   "metadata": {},
   "source": [
    "### Section 1: Theory\n",
    " **1. Name two advantages and two disadvantages of using LSTM over ARIMA for time\n",
    " series forecasting.**  \n",
    "Disadvantages:  \n",
    "1. LSTM architecture is Black box model ,that means that its hard to  attribute predictions to specific factors or patterns \n",
    "2. Computational complexity:Training LSTM architectures are computationally intensive and often requires GPU, finetunning hyperparameters are necesarry for minimize vanish gradient and overfitting.\n",
    "\n",
    "Advantages:  \n",
    "1. LSTM is able to learn non linear patterns,less sensitive to non stationarity, heavy tailed distributions,shift distributions, in comparison to ARIMA models but also we still need to take care for scale,missing values and noisy data,those factors will result in spurious predictions  \n",
    "2. LSTM introduces memory cells and gating mechanism to selectively retain or discard info over secuences adressing the vanishing gradient problem of RNN enabling long term learning. \n",
    "\n",
    " **2. Why is standard k-fold cross-validation not suitable for time series data? What tech\n",
    "nique would you recommend instead?**  \n"
   ]
  },
  {
   "cell_type": "markdown",
   "id": "04b45125",
   "metadata": {},
   "source": [
    "Cross validating in TS is tricky, you can't use traditional K fold because you will end up training on  future samples,instead you can use timeseries split of sklearn, in which each fold the training indices will always come before before the test indices"
   ]
  },
  {
   "cell_type": "markdown",
   "id": "04d01c47",
   "metadata": {},
   "source": [
    "### Section 2: Case Study"
   ]
  },
  {
   "cell_type": "code",
   "execution_count": 3,
   "id": "12762852",
   "metadata": {},
   "outputs": [],
   "source": [
    "from statsmodels.graphics.tsaplots import plot_acf, plot_pacf\n",
    "from statsmodels.tsa.seasonal import seasonal_decompose\n",
    "from sklearn.metrics import mean_squared_error, r2_score\n",
    "from sklearn.model_selection import TimeSeriesSplit\n",
    "from sklearn.preprocessing import MinMaxScaler\n",
    "from statsmodels.tsa.arima.model import ARIMA, ARIMAResults, ARIMAResultsWrapper\n",
    "import matplotlib.pyplot as plt\n",
    "import plotly.express as px\n",
    "import pandas as pd\n",
    "from pathlib import Path\n",
    "import json\n"
   ]
  },
  {
   "cell_type": "markdown",
   "id": "a8f417d4",
   "metadata": {},
   "source": [
    "###  Index\n",
    "1. Results Catalog \n",
    "2. Data Cleanning\n",
    "3. Models:\n",
    "    1. Baseline Model(Arima)\n",
    "    2. LSTM\n",
    "    3. Prophet\n",
    "    4. Metrics and report results\n",
    "### apendix\n",
    "1. EDA Results\n",
    "\n",
    "\n",
    "\n",
    "\n"
   ]
  },
  {
   "cell_type": "markdown",
   "id": "e784b836",
   "metadata": {},
   "source": [
    "### Results Catalog"
   ]
  },
  {
   "cell_type": "markdown",
   "id": "117cd159",
   "metadata": {},
   "source": [
    "### Data Cleanning  \n",
    "\n",
    "1. EDA\n",
    "\n",
    "**1st DataSet Version**\n",
    "1. Drop rows with Ventas = 0\n",
    "2. duplicate treatment\n",
    "3. Normalize  'Ventas' values with MinMax Scaler\n",
    "4. add new columns\n",
    "    1. Split and add date columns\n",
    "\n",
    "     \n",
    "**2nd DataSet Version**\n",
    "1. same procedure + new columns\n",
    "    1. Feature Importance (xgboost)\n",
    "    2. trend,seasonality, maew for cluster ownership\n"
   ]
  },
  {
   "cell_type": "markdown",
   "id": "4ab2ce61",
   "metadata": {},
   "source": [
    "Data cleanning"
   ]
  },
  {
   "cell_type": "code",
   "execution_count": null,
   "id": "f5c39737",
   "metadata": {},
   "outputs": [],
   "source": [
    "base_dir = Path().resolve()/'Ventas_.csv'\n",
    "df = pd.read_csv(base_dir,index_col=None, parse_dates=['Fecha'] )\n",
    "df = df[df['Ventas'] != 0].copy()\n",
    "df['Estado'] = df['Estado'].astype('category')\n",
    "df = df.sort_values(by=['Fecha','Estado','Ventas'])"
   ]
  },
  {
   "cell_type": "markdown",
   "id": "5c3b6a7c",
   "metadata": {},
   "source": [
    "1st Dataset Version"
   ]
  },
  {
   "cell_type": "code",
   "execution_count": 8,
   "id": "862eda49",
   "metadata": {},
   "outputs": [],
   "source": [
    "df1 = df.copy()\n",
    "MinMaxScaler = MinMaxScaler()\n",
    "Sx = MinMaxScaler.fit_transform(df['Ventas'].values.reshape(-1, 1))\n",
    "df1['Ventas'] = Sx.flatten()\n",
    "\n",
    "df1['año'] = df['Fecha'].dt.year\n",
    "df1['mes'] = df['Fecha'].dt.month\n",
    "df1['día_semana'] = df['Fecha'].dt.day_name()\n",
    "df1['semana'] = df['Fecha'].dt.isocalendar().week\n",
    "df1['mes_nombre'] = df['Fecha'].dt.month_name()\n",
    "\n",
    "ts_decompose = seasonal_decompose(df['Ventas'], model='additive', period=12)\n",
    "seasonal_decompose = ts_decompose.seasonal\n",
    "df1['seasonal'] = seasonal_decompose\n",
    "df1['trend'] = ts_decompose.trend\n",
    "df1['residual'] = ts_decompose.resid\n",
    "df1['observed'] = ts_decompose.observed\n",
    "df1.to_csv(base_dir.parent/'dataset_v1.csv', index=False)\n"
   ]
  },
  {
   "cell_type": "markdown",
   "id": "24502489",
   "metadata": {},
   "source": [
    "2nd datsets version"
   ]
  },
  {
   "cell_type": "code",
   "execution_count": null,
   "id": "af678d8d",
   "metadata": {},
   "outputs": [],
   "source": [
    "df2 = df1.copy()\n",
    "df2['meaw'] = "
   ]
  },
  {
   "cell_type": "markdown",
   "id": "b84a04ed",
   "metadata": {},
   "source": [
    "### EDA"
   ]
  },
  {
   "cell_type": "code",
   "execution_count": null,
   "id": "713e5776",
   "metadata": {},
   "outputs": [],
   "source": [
    "print(df.info())\n",
    "print('----------------------------------------------------------')\n",
    "print(df.describe())\n",
    "print('----------------------------------------------------------')\n",
    "print(f'duplicated rows:  {df.duplicated().sum()}' )"
   ]
  }
 ],
 "metadata": {
  "kernelspec": {
   "display_name": "Python (ds)",
   "language": "python",
   "name": "ds"
  },
  "language_info": {
   "codemirror_mode": {
    "name": "ipython",
    "version": 3
   },
   "file_extension": ".py",
   "mimetype": "text/x-python",
   "name": "python",
   "nbconvert_exporter": "python",
   "pygments_lexer": "ipython3",
   "version": "3.11.13"
  }
 },
 "nbformat": 4,
 "nbformat_minor": 5
}
